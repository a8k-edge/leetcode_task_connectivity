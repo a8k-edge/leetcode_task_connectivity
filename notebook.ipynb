{
 "cells": [
  {
   "cell_type": "code",
   "execution_count": 2,
   "id": "e51905da-90f8-4bdb-aad6-87d4c52c08a3",
   "metadata": {},
   "outputs": [],
   "source": [
    "from collections import defaultdict\n",
    "import os\n",
    "import json\n",
    "from conf import QUESTIONS, SIMILARS_DIR"
   ]
  },
  {
   "cell_type": "code",
   "execution_count": 4,
   "id": "95534dc0-1953-4c74-9f05-9bfd7fe1dfa7",
   "metadata": {},
   "outputs": [],
   "source": [
    "nodes = {}\n",
    "graph = defaultdict(list)\n",
    "in_degree = {}\n",
    "\n",
    "questions = []\n",
    "with open(QUESTIONS, 'r') as f:\n",
    "    questions = json.load(f)\n",
    "\n",
    "for q in questions:\n",
    "    nodes[q['titleSlug']] = q\n",
    "    \n",
    "    fname = q['titleSlug'] + '.json'\n",
    "    with open(os.path.join(SIMILARS_DIR, fname), 'r') as f:\n",
    "        similars = json.load(f)\n",
    "        in_degree[q['titleSlug']] = len(similars)\n",
    "        for s in similars:\n",
    "            graph[s['titleSlug']].append(q['titleSlug'])\n"
   ]
  },
  {
   "cell_type": "code",
   "execution_count": 5,
   "id": "33a30a75-6a4e-44c6-9168-d24370c14af3",
   "metadata": {},
   "outputs": [
    {
     "name": "stdout",
     "output_type": "stream",
     "text": [
      "Total:  2852\n",
      "Number of components:  172\n",
      "Max component card: 1282\n",
      "\n",
      "Top 20 max by in degree node\n",
      "1. Two Sum [Easy]\n",
      "2. Merge Intervals [Medium]\n",
      "3. House Robber [Medium]\n",
      "4. Maximum Subarray [Medium]\n",
      "5. Longest Increasing Subsequence [Medium]\n",
      "6. Number of Islands [Medium]\n",
      "7. Jump Game VII [Medium]\n",
      "8. Longest Nice Subarray [Medium]\n",
      "9. Longest Substring Without Repeating Characters [Medium]\n",
      "10. Minimum Path Sum [Medium]\n",
      "11. Binary Tree Inorder Traversal [Easy]\n",
      "12. Binary Tree Level Order Traversal [Medium]\n",
      "13. Course Schedule II [Medium]\n",
      "14. Top K Frequent Elements [Medium]\n",
      "15. Max Consecutive Ones III [Medium]\n",
      "16. Stone Game VII [Medium]\n",
      "17. Stone Game VIII [Hard]\n",
      "18. Stone Game IX [Medium]\n",
      "19. Partition Array Into Two Arrays to Minimize Sum Difference [Hard]\n",
      "20. Fair Distribution of Cookies [Medium]\n"
     ]
    }
   ],
   "source": [
    "import heapq\n",
    "\n",
    "visited = set()\n",
    "components = []\n",
    "for node in graph:\n",
    "    if node not in visited:\n",
    "        stack = [node]\n",
    "        current_component = set()\n",
    "        while stack:\n",
    "            n = stack.pop()\n",
    "            current_component.add(n)\n",
    "            visited.add(n)\n",
    "            for v in graph[n]:\n",
    "                if v not in visited:\n",
    "                    stack.append(v)\n",
    "        components.append(current_component)\n",
    "sorted_components = sorted(components, key=len, reverse=True)\n",
    "largest_component = sorted_components[0]\n",
    "\n",
    "print('Total: ', len(nodes))\n",
    "print('Number of components: ', len(components))\n",
    "print('Max component card:', len(largest_component))\n",
    "print()\n",
    "\n",
    "n = 20\n",
    "print(f'Top {n} max by in degree node')\n",
    "i = 1\n",
    "for node in heapq.nlargest(n, in_degree, key=lambda x: in_degree[x]):\n",
    "    print(f'{i}.', nodes[node]['title'], f\"[{nodes[node]['difficulty']}]\")\n",
    "    i += 1"
   ]
  },
  {
   "cell_type": "code",
   "execution_count": 9,
   "id": "3636b8aa-660c-4fe0-b572-d0807beafc95",
   "metadata": {},
   "outputs": [
    {
     "name": "stdout",
     "output_type": "stream",
     "text": [
      "all_nodes.html\n"
     ]
    }
   ],
   "source": [
    "from pyvis.network import Network\n",
    "\n",
    "net = Network(directed=True, select_menu=True, filter_menu=True)\n",
    "ids, labels, colors = [], [], []\n",
    "edges = []\n",
    "\n",
    "\n",
    "def get_color(difficulty):\n",
    "    match difficulty:\n",
    "        case 'Medium':\n",
    "            return '#ffb800'\n",
    "        case 'Hard':\n",
    "            return '#ff2d55'\n",
    "        case 'Easy':\n",
    "            return '#00af9b'\n",
    "\n",
    "\n",
    "# for k in filter(lambda k: k not in largest_component, graph):\n",
    "for k in graph:\n",
    "    ids.append(k)\n",
    "    labels.append(nodes[k]['title'])\n",
    "    colors.append(get_color(nodes[k]['difficulty']))\n",
    "    for v in graph[k]:\n",
    "        edges.append((k, v))    \n",
    "\n",
    "net.add_nodes(ids, label=labels, color=colors)\n",
    "net.add_edges(edges)\n",
    "net.show('all_nodes.html', notebook=False)"
   ]
  },
  {
   "cell_type": "code",
   "execution_count": 1,
   "id": "93e6cfe3-66f5-4097-9eb5-0980603c774e",
   "metadata": {},
   "outputs": [
    {
     "ename": "NameError",
     "evalue": "name 'Network' is not defined",
     "output_type": "error",
     "traceback": [
      "\u001b[1;31m---------------------------------------------------------------------------\u001b[0m",
      "\u001b[1;31mNameError\u001b[0m                                 Traceback (most recent call last)",
      "Cell \u001b[1;32mIn[1], line 1\u001b[0m\n\u001b[1;32m----> 1\u001b[0m net \u001b[38;5;241m=\u001b[39m \u001b[43mNetwork\u001b[49m(directed\u001b[38;5;241m=\u001b[39m\u001b[38;5;28;01mTrue\u001b[39;00m, select_menu\u001b[38;5;241m=\u001b[39m\u001b[38;5;28;01mTrue\u001b[39;00m)\n\u001b[0;32m      2\u001b[0m ids, labels, colors \u001b[38;5;241m=\u001b[39m [], [], []\n\u001b[0;32m      3\u001b[0m edges \u001b[38;5;241m=\u001b[39m []\n",
      "\u001b[1;31mNameError\u001b[0m: name 'Network' is not defined"
     ]
    }
   ],
   "source": [
    "net = Network(directed=True, select_menu=True)\n",
    "ids, labels, colors = [], [], []\n",
    "edges = []\n",
    "\n",
    "interest = set()\n",
    "for c in sorted_components[1:100]:\n",
    "    interest |= c\n",
    "    \n",
    "for k in filter(lambda k: k in interest, graph):\n",
    "    ids.append(k)\n",
    "    labels.append(nodes[k]['title'])\n",
    "    colors.append(get_color(nodes[k]['difficulty']))\n",
    "    for v in filter(lambda k: k in interest, graph[k]):\n",
    "        edges.append((k, v))\n",
    "\n",
    "net.add_nodes(ids, label=labels, color=colors)\n",
    "net.add_edges(edges)\n",
    "\n",
    "\n",
    "# added_tags = set()\n",
    "# for node in ids:\n",
    "#     for tag in nodes[node]['topicTags']:\n",
    "#         name = tag['name']\n",
    "#         if name not in added_tags:\n",
    "#             net.add_node(name, label=name, shape='square', size=25)\n",
    "#             added_tags.add(name)\n",
    "        \n",
    "#         net.add_edge(node, name)\n",
    "\n",
    "net.show('nodes.html', notebook=False)"
   ]
  },
  {
   "cell_type": "code",
   "execution_count": null,
   "id": "0bde32ba-ffa8-4d54-bb6d-0250b6b560a3",
   "metadata": {},
   "outputs": [],
   "source": []
  }
 ],
 "metadata": {
  "kernelspec": {
   "display_name": "Python 3 (ipykernel)",
   "language": "python",
   "name": "python3"
  },
  "language_info": {
   "codemirror_mode": {
    "name": "ipython",
    "version": 3
   },
   "file_extension": ".py",
   "mimetype": "text/x-python",
   "name": "python",
   "nbconvert_exporter": "python",
   "pygments_lexer": "ipython3",
   "version": "3.11.1"
  }
 },
 "nbformat": 4,
 "nbformat_minor": 5
}
